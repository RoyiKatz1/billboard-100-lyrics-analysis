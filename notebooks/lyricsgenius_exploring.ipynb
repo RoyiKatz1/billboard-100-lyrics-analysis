{
 "cells": [
  {
   "cell_type": "markdown",
   "id": "fdcc8b7c-9b9e-4afa-9293-873e1dee1802",
   "metadata": {},
   "source": [
    "# 🎸 Exploring the `lyricsgenius` Library\n"
   ]
  },
  {
   "cell_type": "markdown",
   "id": "34fbed38-6290-414f-8f32-1d4d476f1868",
   "metadata": {},
   "source": [
    "**Goal:** Understand how to use the `Genius` client, inspect returned objects, and get ready to fetch & save lyrics.\n"
   ]
  },
  {
   "cell_type": "markdown",
   "id": "b961079c-70f2-40d0-98de-03b60fcd45d2",
   "metadata": {},
   "source": [
    "## 1. Install & import\n"
   ]
  },
  {
   "cell_type": "markdown",
   "id": "2da34052-5e8d-4d34-9a99-a483f5ef16a7",
   "metadata": {},
   "source": [
    "run once if not installed already"
   ]
  },
  {
   "cell_type": "code",
   "execution_count": 3,
   "id": "d2f992aa-822f-4c2a-b000-3572e0d7e26d",
   "metadata": {
    "tags": []
   },
   "outputs": [
    {
     "name": "stdout",
     "output_type": "stream",
     "text": [
      "Requirement already satisfied: lyricsgenius in c:\\users\\royic\\anaconda3\\lib\\site-packages (3.6.2)\n",
      "Requirement already satisfied: beautifulsoup4>=4.12.3 in c:\\users\\royic\\anaconda3\\lib\\site-packages (from lyricsgenius) (4.13.4)\n",
      "Requirement already satisfied: requests>=2.27.1 in c:\\users\\royic\\anaconda3\\lib\\site-packages (from lyricsgenius) (2.31.0)\n",
      "Requirement already satisfied: soupsieve>1.2 in c:\\users\\royic\\anaconda3\\lib\\site-packages (from beautifulsoup4>=4.12.3->lyricsgenius) (2.4)\n",
      "Requirement already satisfied: typing-extensions>=4.0.0 in c:\\users\\royic\\anaconda3\\lib\\site-packages (from beautifulsoup4>=4.12.3->lyricsgenius) (4.12.2)\n",
      "Requirement already satisfied: charset-normalizer<4,>=2 in c:\\users\\royic\\anaconda3\\lib\\site-packages (from requests>=2.27.1->lyricsgenius) (2.0.4)\n",
      "Requirement already satisfied: idna<4,>=2.5 in c:\\users\\royic\\anaconda3\\lib\\site-packages (from requests>=2.27.1->lyricsgenius) (3.4)\n",
      "Requirement already satisfied: urllib3<3,>=1.21.1 in c:\\users\\royic\\anaconda3\\lib\\site-packages (from requests>=2.27.1->lyricsgenius) (1.26.16)\n",
      "Requirement already satisfied: certifi>=2017.4.17 in c:\\users\\royic\\anaconda3\\lib\\site-packages (from requests>=2.27.1->lyricsgenius) (2024.2.2)\n",
      "Note: you may need to restart the kernel to use updated packages.\n"
     ]
    }
   ],
   "source": [
    "%pip install lyricsgenius"
   ]
  },
  {
   "cell_type": "code",
   "execution_count": 1,
   "id": "6a1929ca-a7bd-43b1-9a9e-1a404bb48939",
   "metadata": {
    "tags": []
   },
   "outputs": [],
   "source": [
    "import lyricsgenius as lg"
   ]
  },
  {
   "cell_type": "code",
   "execution_count": 2,
   "id": "46b135ab-83f7-4aa1-b70d-a73ae3f3ca6a",
   "metadata": {
    "tags": []
   },
   "outputs": [],
   "source": [
    "from dotenv import load_dotenv\n",
    "import os"
   ]
  },
  {
   "cell_type": "code",
   "execution_count": 3,
   "id": "9876ec55-7347-4af4-92eb-0008dca7cfec",
   "metadata": {
    "tags": []
   },
   "outputs": [
    {
     "data": {
      "text/plain": [
       "True"
      ]
     },
     "execution_count": 3,
     "metadata": {},
     "output_type": "execute_result"
    }
   ],
   "source": [
    "# look for .env in your current working directory\n",
    "load_dotenv()"
   ]
  },
  {
   "cell_type": "code",
   "execution_count": 10,
   "id": "ae44428d-6f8a-4edf-819f-42a32212dabd",
   "metadata": {
    "tags": []
   },
   "outputs": [],
   "source": [
    "genius = lg.Genius(access_token=os.getenv(\"TOKEN\"))"
   ]
  },
  {
   "cell_type": "markdown",
   "id": "325533d9-eeff-4cec-847f-cab4ad4d3e10",
   "metadata": {},
   "source": [
    "## 2. Test a simple search"
   ]
  },
  {
   "cell_type": "markdown",
   "id": "8568542b-8a08-4a4b-b158-a2bd02edcc2d",
   "metadata": {},
   "source": [
    "`Genius.search_song(title=None, artist='', song_id=None, get_full_info=True)`\n",
    "\n",
    "Searches for a specific song and gets its lyrics.\n",
    "\n",
    "You must pass either a `title` or a `song_id`.\n",
    "\n",
    "**Parameters**\n",
    "- title (`str`) – Song title to search for.\n",
    "- artist (`str`, optional) – Name of the artist.\n",
    "- get_full_info (`bool`, optional) – Get full info for each song (slower).\n",
    "- song_id (`int`, optional) – Song ID."
   ]
  },
  {
   "cell_type": "code",
   "execution_count": 12,
   "id": "421e4fa9-a878-4f2e-8b28-f39728173d51",
   "metadata": {
    "tags": []
   },
   "outputs": [
    {
     "name": "stdout",
     "output_type": "stream",
     "text": [
      "Searching for \"Bad Guy\" by Billie Eilish...\n",
      "Done.\n",
      "<class 'lyricsgenius.types.song.Song'>\n",
      "bad guy Billie Eilish\n",
      "358 ContributorsTranslationssrpskiTürkçeSvenskaEspañolРусский (Russian)RomânăPortuguêsPolskiItalianoעברית (Hebrew)DeutschFrançaisفارسیNederlandsDansk繁體中文 (Traditional Chinese)Ελληνικάالعربيةไทย (Thai)Českybad guy Lyrics“bad guy” is a playful, bass-heavy track that sees Eilish taunting her lover, flaunting her tough nature while questioning his own.\n",
      "\n",
      "It was first proven to exist after Eilish teased a snippet of the track on… Read More [Verse 1]\n",
      "White shirt now red, my bloody nose\n",
      "Sleepin', you're on your tippy toes\n",
      "Creepin' around like no one knows\n",
      "Think you're so criminal\n",
      "Bruises on both my knees for you\n",
      "Don't say thank you or please\n",
      "I do what I want when I'm wanting to\n",
      "My soul? So cynical\n",
      "\n",
      "[Pre-Chorus]\n",
      "So you're a tough guy\n",
      "Like it really rough guy\n",
      "Just can't get enough guy\n",
      "Chest always so puffed guy\n",
      "I'm that bad type\n",
      "Make your mama sad type\n",
      "Make your girlfriend mad tight\n",
      "Might seduce your dad type\n",
      "I'm the bad guy\n",
      "Duh\n",
      "\n",
      "[Chorus]\n",
      "I'm the bad guy\n",
      "\n",
      "[Verse 2]\n",
      "I like it when you take control\n",
      "Even if you know that you don't\n",
      "Own me, I'll let you play the role\n",
      "I'll be your animal\n",
      "My mommy likes to sing along with me\n",
      "But she won't sing this song\n",
      "If she reads all the lyrics\n",
      "She'll pity the men I know\n",
      "\n",
      "\n",
      "[Pre-Chorus]\n",
      "So you're a tough guy\n",
      "Like it really rough guy\n",
      "Just can't get enough guy\n",
      "Chest always so puffed guy\n",
      "I'm that bad type\n",
      "Make your mama sad type\n",
      "Make your girlfriend mad tight\n",
      "Might seduce your dad type\n",
      "I'm the bad guy\n",
      "Duh\n",
      "\n",
      "[Chorus]\n",
      "I'm the bad guy, duh\n",
      "I'm only good at bein' bad, bad\n",
      "[Bridge]\n",
      "I like when you get mad\n",
      "I guess I'm pretty glad that you're alone\n",
      "You said she's scared of me?\n",
      "I mean, I don't see what she sees\n",
      "But maybe it's 'cause I'm wearing your cologne\n",
      "\n",
      "[Outro]\n",
      "I'm a bad guy\n",
      "I'm, I'm a bad guy\n",
      "Bad guy, bad guy\n",
      "I'm a bad\n"
     ]
    }
   ],
   "source": [
    "# Search for “Bad Guy” by Billie Eilish\n",
    "song = genius.search_song(\"Bad Guy\", \"Billie Eilish\")\n",
    "print(type(song))         # what object did we get?\n",
    "print(song.title, song.artist)\n",
    "\n",
    "# Inspect its attributes\n",
    "print(song.lyrics)"
   ]
  },
  {
   "cell_type": "markdown",
   "id": "d0f661e5-eb12-4e5d-88b4-642f2b19b88f",
   "metadata": {},
   "source": [
    "`save_lyrics(filename=None, extension='json', overwrite=False, ensure_ascii=True, sanitize=True, verbose=True)`\n",
    "\n",
    "Save Song(s) lyrics and metadata to a JSON or TXT file.\n",
    "\n",
    "If the extension is ‘json’ (the default), the lyrics will be saved alongside the song’s information. Take a look at the example below.\n",
    "\n",
    "**Parameters**\n",
    "- filename (`str`, optional) – Output filename, a string. If not specified, the result is returned as a string.\n",
    "- extension (`str`, optional) – Format of the file (json or txt).\n",
    "- overwrite (`bool`, optional) – Overwrites preexisting file if True. Otherwise prompts user for input.\n",
    "- ensure_ascii (`bool`, optional) – If ensure_ascii is true (the default), the output is guaranteed to have all incoming non-ASCII characters escaped.\n",
    "- sanitize (`bool`, optional) – Sanitizes the filename if True.\n",
    "- verbose (`bool`, optional) – prints operation result.\n",
    "\n",
    "**Warning**\n",
    "If you set sanitize to False, the file name may contain invalid characters, and thefore cause the saving to fail."
   ]
  },
  {
   "cell_type": "code",
   "execution_count": 13,
   "id": "cadc301a-7cca-4d81-adf1-31b8d94a4c31",
   "metadata": {
    "tags": []
   },
   "outputs": [
    {
     "name": "stdout",
     "output_type": "stream",
     "text": [
      "Wrote ../data/raw/lyrics/bad_guy.json.\n"
     ]
    }
   ],
   "source": [
    "song.save_lyrics(filename='../data/raw/lyrics/bad_guy.json', sanitize=False)"
   ]
  },
  {
   "cell_type": "markdown",
   "id": "0e7ec280-67be-4d22-aeb8-169561f19b34",
   "metadata": {},
   "source": [
    "## Try to search for a song from top-100"
   ]
  },
  {
   "cell_type": "code",
   "execution_count": 5,
   "id": "4076056f-1e41-406c-bdd3-54c3f8ca6c9c",
   "metadata": {
    "tags": []
   },
   "outputs": [],
   "source": [
    "import pandas as pd"
   ]
  },
  {
   "cell_type": "code",
   "execution_count": 6,
   "id": "0dd938ea-9948-4824-8cfb-d5714a843155",
   "metadata": {
    "tags": []
   },
   "outputs": [
    {
     "data": {
      "text/html": [
       "<div>\n",
       "<style scoped>\n",
       "    .dataframe tbody tr th:only-of-type {\n",
       "        vertical-align: middle;\n",
       "    }\n",
       "\n",
       "    .dataframe tbody tr th {\n",
       "        vertical-align: top;\n",
       "    }\n",
       "\n",
       "    .dataframe thead th {\n",
       "        text-align: right;\n",
       "    }\n",
       "</style>\n",
       "<table border=\"1\" class=\"dataframe\">\n",
       "  <thead>\n",
       "    <tr style=\"text-align: right;\">\n",
       "      <th></th>\n",
       "      <th>date</th>\n",
       "      <th>rank</th>\n",
       "      <th>title</th>\n",
       "      <th>artist</th>\n",
       "      <th>image</th>\n",
       "      <th>peakPos</th>\n",
       "      <th>lastpos</th>\n",
       "      <th>weeks</th>\n",
       "      <th>isNew</th>\n",
       "    </tr>\n",
       "  </thead>\n",
       "  <tbody>\n",
       "    <tr>\n",
       "      <th>0</th>\n",
       "      <td>2024-12-28</td>\n",
       "      <td>1</td>\n",
       "      <td>All I Want For Christmas Is You</td>\n",
       "      <td>Mariah Carey</td>\n",
       "      <td>https://charts-static.billboard.com/img/1994/1...</td>\n",
       "      <td>1</td>\n",
       "      <td>1</td>\n",
       "      <td>70</td>\n",
       "      <td>False</td>\n",
       "    </tr>\n",
       "    <tr>\n",
       "      <th>1</th>\n",
       "      <td>2024-12-28</td>\n",
       "      <td>2</td>\n",
       "      <td>Rockin' Around The Christmas Tree</td>\n",
       "      <td>Brenda Lee</td>\n",
       "      <td>https://charts-static.billboard.com/img/1960/1...</td>\n",
       "      <td>1</td>\n",
       "      <td>2</td>\n",
       "      <td>63</td>\n",
       "      <td>False</td>\n",
       "    </tr>\n",
       "    <tr>\n",
       "      <th>2</th>\n",
       "      <td>2024-12-28</td>\n",
       "      <td>3</td>\n",
       "      <td>Last Christmas</td>\n",
       "      <td>Wham!</td>\n",
       "      <td>https://charts-static.billboard.com/img/1998/0...</td>\n",
       "      <td>3</td>\n",
       "      <td>4</td>\n",
       "      <td>44</td>\n",
       "      <td>False</td>\n",
       "    </tr>\n",
       "    <tr>\n",
       "      <th>3</th>\n",
       "      <td>2024-12-28</td>\n",
       "      <td>4</td>\n",
       "      <td>Jingle Bell Rock</td>\n",
       "      <td>Bobby Helms</td>\n",
       "      <td>https://charts-static.billboard.com/img/1958/1...</td>\n",
       "      <td>3</td>\n",
       "      <td>3</td>\n",
       "      <td>60</td>\n",
       "      <td>False</td>\n",
       "    </tr>\n",
       "    <tr>\n",
       "      <th>4</th>\n",
       "      <td>2024-12-28</td>\n",
       "      <td>5</td>\n",
       "      <td>A Holly Jolly Christmas</td>\n",
       "      <td>Burl Ives</td>\n",
       "      <td>https://charts-static.billboard.com/img/1998/0...</td>\n",
       "      <td>4</td>\n",
       "      <td>5</td>\n",
       "      <td>44</td>\n",
       "      <td>False</td>\n",
       "    </tr>\n",
       "    <tr>\n",
       "      <th>...</th>\n",
       "      <td>...</td>\n",
       "      <td>...</td>\n",
       "      <td>...</td>\n",
       "      <td>...</td>\n",
       "      <td>...</td>\n",
       "      <td>...</td>\n",
       "      <td>...</td>\n",
       "      <td>...</td>\n",
       "      <td>...</td>\n",
       "    </tr>\n",
       "    <tr>\n",
       "      <th>5195</th>\n",
       "      <td>2024-01-06</td>\n",
       "      <td>96</td>\n",
       "      <td>El Amor de Su Vida</td>\n",
       "      <td>Grupo Frontera &amp; Grupo Firme</td>\n",
       "      <td>https://charts-static.billboard.com/img/2023/0...</td>\n",
       "      <td>68</td>\n",
       "      <td>0</td>\n",
       "      <td>16</td>\n",
       "      <td>False</td>\n",
       "    </tr>\n",
       "    <tr>\n",
       "      <th>5196</th>\n",
       "      <td>2024-01-06</td>\n",
       "      <td>97</td>\n",
       "      <td>Standing Next To You</td>\n",
       "      <td>Jung Kook</td>\n",
       "      <td>https://charts-static.billboard.com/img/2023/1...</td>\n",
       "      <td>5</td>\n",
       "      <td>79</td>\n",
       "      <td>8</td>\n",
       "      <td>False</td>\n",
       "    </tr>\n",
       "    <tr>\n",
       "      <th>5197</th>\n",
       "      <td>2024-01-06</td>\n",
       "      <td>98</td>\n",
       "      <td>Man Made A Bar</td>\n",
       "      <td>Morgan Wallen Featuring Eric Church</td>\n",
       "      <td>https://charts-static.billboard.com/img/2023/0...</td>\n",
       "      <td>15</td>\n",
       "      <td>0</td>\n",
       "      <td>14</td>\n",
       "      <td>False</td>\n",
       "    </tr>\n",
       "    <tr>\n",
       "      <th>5198</th>\n",
       "      <td>2024-01-06</td>\n",
       "      <td>99</td>\n",
       "      <td>Que Onda</td>\n",
       "      <td>Calle 24 x Chino Pacas x Fuerza Regida</td>\n",
       "      <td>https://charts-static.billboard.com/img/2023/0...</td>\n",
       "      <td>61</td>\n",
       "      <td>98</td>\n",
       "      <td>13</td>\n",
       "      <td>False</td>\n",
       "    </tr>\n",
       "    <tr>\n",
       "      <th>5199</th>\n",
       "      <td>2024-01-06</td>\n",
       "      <td>100</td>\n",
       "      <td>Great Gatsby</td>\n",
       "      <td>Rod Wave</td>\n",
       "      <td>https://charts-static.billboard.com/img/2019/0...</td>\n",
       "      <td>30</td>\n",
       "      <td>99</td>\n",
       "      <td>14</td>\n",
       "      <td>False</td>\n",
       "    </tr>\n",
       "  </tbody>\n",
       "</table>\n",
       "<p>5200 rows × 9 columns</p>\n",
       "</div>"
      ],
      "text/plain": [
       "            date  rank                              title  \\\n",
       "0     2024-12-28     1    All I Want For Christmas Is You   \n",
       "1     2024-12-28     2  Rockin' Around The Christmas Tree   \n",
       "2     2024-12-28     3                     Last Christmas   \n",
       "3     2024-12-28     4                   Jingle Bell Rock   \n",
       "4     2024-12-28     5            A Holly Jolly Christmas   \n",
       "...          ...   ...                                ...   \n",
       "5195  2024-01-06    96                 El Amor de Su Vida   \n",
       "5196  2024-01-06    97               Standing Next To You   \n",
       "5197  2024-01-06    98                     Man Made A Bar   \n",
       "5198  2024-01-06    99                           Que Onda   \n",
       "5199  2024-01-06   100                       Great Gatsby   \n",
       "\n",
       "                                      artist  \\\n",
       "0                               Mariah Carey   \n",
       "1                                 Brenda Lee   \n",
       "2                                      Wham!   \n",
       "3                                Bobby Helms   \n",
       "4                                  Burl Ives   \n",
       "...                                      ...   \n",
       "5195            Grupo Frontera & Grupo Firme   \n",
       "5196                               Jung Kook   \n",
       "5197     Morgan Wallen Featuring Eric Church   \n",
       "5198  Calle 24 x Chino Pacas x Fuerza Regida   \n",
       "5199                                Rod Wave   \n",
       "\n",
       "                                                  image  peakPos  lastpos  \\\n",
       "0     https://charts-static.billboard.com/img/1994/1...        1        1   \n",
       "1     https://charts-static.billboard.com/img/1960/1...        1        2   \n",
       "2     https://charts-static.billboard.com/img/1998/0...        3        4   \n",
       "3     https://charts-static.billboard.com/img/1958/1...        3        3   \n",
       "4     https://charts-static.billboard.com/img/1998/0...        4        5   \n",
       "...                                                 ...      ...      ...   \n",
       "5195  https://charts-static.billboard.com/img/2023/0...       68        0   \n",
       "5196  https://charts-static.billboard.com/img/2023/1...        5       79   \n",
       "5197  https://charts-static.billboard.com/img/2023/0...       15        0   \n",
       "5198  https://charts-static.billboard.com/img/2023/0...       61       98   \n",
       "5199  https://charts-static.billboard.com/img/2019/0...       30       99   \n",
       "\n",
       "      weeks  isNew  \n",
       "0        70  False  \n",
       "1        63  False  \n",
       "2        44  False  \n",
       "3        60  False  \n",
       "4        44  False  \n",
       "...     ...    ...  \n",
       "5195     16  False  \n",
       "5196      8  False  \n",
       "5197     14  False  \n",
       "5198     13  False  \n",
       "5199     14  False  \n",
       "\n",
       "[5200 rows x 9 columns]"
      ]
     },
     "execution_count": 6,
     "metadata": {},
     "output_type": "execute_result"
    }
   ],
   "source": [
    "# 1️⃣ Load your Hot-100 data\n",
    "excel_path = '../data/raw/billboard/billboard_dataset_2024.xlsx'\n",
    "df = pd.read_excel(excel_path)\n",
    "\n",
    "df"
   ]
  },
  {
   "cell_type": "code",
   "execution_count": 21,
   "id": "8373ebcd-c0a1-40a7-9ece-dc93c8073fa0",
   "metadata": {
    "tags": []
   },
   "outputs": [
    {
     "name": "stdout",
     "output_type": "stream",
     "text": [
      "Searching for:\n",
      "  • Title:  All I Want For Christmas Is You\n",
      "  • Artist: Mariah Carey\n",
      "\n"
     ]
    }
   ],
   "source": [
    "# 2️⃣ Pick one song (here: the very first row)\n",
    "first = df.iloc[0]\n",
    "title  = first[\"title\"]\n",
    "artist = first[\"artist\"]\n",
    "\n",
    "print(f\"Searching for:\\n  • Title:  {title}\\n  • Artist: {artist}\\n\")\n"
   ]
  },
  {
   "cell_type": "code",
   "execution_count": 22,
   "id": "d9370c7d-32f9-415b-9fc7-c3a4b16daf93",
   "metadata": {
    "tags": []
   },
   "outputs": [
    {
     "name": "stdout",
     "output_type": "stream",
     "text": [
      "Searching for \"All I Want For Christmas Is You\" by Mariah Carey...\n"
     ]
    },
    {
     "ename": "Timeout",
     "evalue": "Request timed out:\nHTTPSConnectionPool(host='api.genius.com', port=443): Read timed out. (read timeout=5)",
     "output_type": "error",
     "traceback": [
      "\u001b[1;31m---------------------------------------------------------------------------\u001b[0m",
      "\u001b[1;31mTimeoutError\u001b[0m                              Traceback (most recent call last)",
      "File \u001b[1;32m~\\anaconda3\\Lib\\site-packages\\urllib3\\connectionpool.py:466\u001b[0m, in \u001b[0;36mHTTPConnectionPool._make_request\u001b[1;34m(self, conn, method, url, timeout, chunked, **httplib_request_kw)\u001b[0m\n\u001b[0;32m    462\u001b[0m         \u001b[38;5;28;01mexcept\u001b[39;00m \u001b[38;5;167;01mBaseException\u001b[39;00m \u001b[38;5;28;01mas\u001b[39;00m e:\n\u001b[0;32m    463\u001b[0m             \u001b[38;5;66;03m# Remove the TypeError from the exception chain in\u001b[39;00m\n\u001b[0;32m    464\u001b[0m             \u001b[38;5;66;03m# Python 3 (including for exceptions like SystemExit).\u001b[39;00m\n\u001b[0;32m    465\u001b[0m             \u001b[38;5;66;03m# Otherwise it looks like a bug in the code.\u001b[39;00m\n\u001b[1;32m--> 466\u001b[0m             six\u001b[38;5;241m.\u001b[39mraise_from(e, \u001b[38;5;28;01mNone\u001b[39;00m)\n\u001b[0;32m    467\u001b[0m \u001b[38;5;28;01mexcept\u001b[39;00m (SocketTimeout, BaseSSLError, SocketError) \u001b[38;5;28;01mas\u001b[39;00m e:\n",
      "File \u001b[1;32m<string>:3\u001b[0m, in \u001b[0;36mraise_from\u001b[1;34m(value, from_value)\u001b[0m\n",
      "File \u001b[1;32m~\\anaconda3\\Lib\\site-packages\\urllib3\\connectionpool.py:461\u001b[0m, in \u001b[0;36mHTTPConnectionPool._make_request\u001b[1;34m(self, conn, method, url, timeout, chunked, **httplib_request_kw)\u001b[0m\n\u001b[0;32m    460\u001b[0m \u001b[38;5;28;01mtry\u001b[39;00m:\n\u001b[1;32m--> 461\u001b[0m     httplib_response \u001b[38;5;241m=\u001b[39m conn\u001b[38;5;241m.\u001b[39mgetresponse()\n\u001b[0;32m    462\u001b[0m \u001b[38;5;28;01mexcept\u001b[39;00m \u001b[38;5;167;01mBaseException\u001b[39;00m \u001b[38;5;28;01mas\u001b[39;00m e:\n\u001b[0;32m    463\u001b[0m     \u001b[38;5;66;03m# Remove the TypeError from the exception chain in\u001b[39;00m\n\u001b[0;32m    464\u001b[0m     \u001b[38;5;66;03m# Python 3 (including for exceptions like SystemExit).\u001b[39;00m\n\u001b[0;32m    465\u001b[0m     \u001b[38;5;66;03m# Otherwise it looks like a bug in the code.\u001b[39;00m\n",
      "File \u001b[1;32m~\\anaconda3\\Lib\\http\\client.py:1378\u001b[0m, in \u001b[0;36mHTTPConnection.getresponse\u001b[1;34m(self)\u001b[0m\n\u001b[0;32m   1377\u001b[0m \u001b[38;5;28;01mtry\u001b[39;00m:\n\u001b[1;32m-> 1378\u001b[0m     response\u001b[38;5;241m.\u001b[39mbegin()\n\u001b[0;32m   1379\u001b[0m \u001b[38;5;28;01mexcept\u001b[39;00m \u001b[38;5;167;01mConnectionError\u001b[39;00m:\n",
      "File \u001b[1;32m~\\anaconda3\\Lib\\http\\client.py:318\u001b[0m, in \u001b[0;36mHTTPResponse.begin\u001b[1;34m(self)\u001b[0m\n\u001b[0;32m    317\u001b[0m \u001b[38;5;28;01mwhile\u001b[39;00m \u001b[38;5;28;01mTrue\u001b[39;00m:\n\u001b[1;32m--> 318\u001b[0m     version, status, reason \u001b[38;5;241m=\u001b[39m \u001b[38;5;28mself\u001b[39m\u001b[38;5;241m.\u001b[39m_read_status()\n\u001b[0;32m    319\u001b[0m     \u001b[38;5;28;01mif\u001b[39;00m status \u001b[38;5;241m!=\u001b[39m CONTINUE:\n",
      "File \u001b[1;32m~\\anaconda3\\Lib\\http\\client.py:279\u001b[0m, in \u001b[0;36mHTTPResponse._read_status\u001b[1;34m(self)\u001b[0m\n\u001b[0;32m    278\u001b[0m \u001b[38;5;28;01mdef\u001b[39;00m \u001b[38;5;21m_read_status\u001b[39m(\u001b[38;5;28mself\u001b[39m):\n\u001b[1;32m--> 279\u001b[0m     line \u001b[38;5;241m=\u001b[39m \u001b[38;5;28mstr\u001b[39m(\u001b[38;5;28mself\u001b[39m\u001b[38;5;241m.\u001b[39mfp\u001b[38;5;241m.\u001b[39mreadline(_MAXLINE \u001b[38;5;241m+\u001b[39m \u001b[38;5;241m1\u001b[39m), \u001b[38;5;124m\"\u001b[39m\u001b[38;5;124miso-8859-1\u001b[39m\u001b[38;5;124m\"\u001b[39m)\n\u001b[0;32m    280\u001b[0m     \u001b[38;5;28;01mif\u001b[39;00m \u001b[38;5;28mlen\u001b[39m(line) \u001b[38;5;241m>\u001b[39m _MAXLINE:\n",
      "File \u001b[1;32m~\\anaconda3\\Lib\\socket.py:706\u001b[0m, in \u001b[0;36mSocketIO.readinto\u001b[1;34m(self, b)\u001b[0m\n\u001b[0;32m    705\u001b[0m \u001b[38;5;28;01mtry\u001b[39;00m:\n\u001b[1;32m--> 706\u001b[0m     \u001b[38;5;28;01mreturn\u001b[39;00m \u001b[38;5;28mself\u001b[39m\u001b[38;5;241m.\u001b[39m_sock\u001b[38;5;241m.\u001b[39mrecv_into(b)\n\u001b[0;32m    707\u001b[0m \u001b[38;5;28;01mexcept\u001b[39;00m timeout:\n",
      "File \u001b[1;32m~\\anaconda3\\Lib\\ssl.py:1311\u001b[0m, in \u001b[0;36mSSLSocket.recv_into\u001b[1;34m(self, buffer, nbytes, flags)\u001b[0m\n\u001b[0;32m   1308\u001b[0m         \u001b[38;5;28;01mraise\u001b[39;00m \u001b[38;5;167;01mValueError\u001b[39;00m(\n\u001b[0;32m   1309\u001b[0m           \u001b[38;5;124m\"\u001b[39m\u001b[38;5;124mnon-zero flags not allowed in calls to recv_into() on \u001b[39m\u001b[38;5;132;01m%s\u001b[39;00m\u001b[38;5;124m\"\u001b[39m \u001b[38;5;241m%\u001b[39m\n\u001b[0;32m   1310\u001b[0m           \u001b[38;5;28mself\u001b[39m\u001b[38;5;241m.\u001b[39m\u001b[38;5;18m__class__\u001b[39m)\n\u001b[1;32m-> 1311\u001b[0m     \u001b[38;5;28;01mreturn\u001b[39;00m \u001b[38;5;28mself\u001b[39m\u001b[38;5;241m.\u001b[39mread(nbytes, buffer)\n\u001b[0;32m   1312\u001b[0m \u001b[38;5;28;01melse\u001b[39;00m:\n",
      "File \u001b[1;32m~\\anaconda3\\Lib\\ssl.py:1167\u001b[0m, in \u001b[0;36mSSLSocket.read\u001b[1;34m(self, len, buffer)\u001b[0m\n\u001b[0;32m   1166\u001b[0m \u001b[38;5;28;01mif\u001b[39;00m buffer \u001b[38;5;129;01mis\u001b[39;00m \u001b[38;5;129;01mnot\u001b[39;00m \u001b[38;5;28;01mNone\u001b[39;00m:\n\u001b[1;32m-> 1167\u001b[0m     \u001b[38;5;28;01mreturn\u001b[39;00m \u001b[38;5;28mself\u001b[39m\u001b[38;5;241m.\u001b[39m_sslobj\u001b[38;5;241m.\u001b[39mread(\u001b[38;5;28mlen\u001b[39m, buffer)\n\u001b[0;32m   1168\u001b[0m \u001b[38;5;28;01melse\u001b[39;00m:\n",
      "\u001b[1;31mTimeoutError\u001b[0m: The read operation timed out",
      "\nDuring handling of the above exception, another exception occurred:\n",
      "\u001b[1;31mReadTimeoutError\u001b[0m                          Traceback (most recent call last)",
      "File \u001b[1;32m~\\anaconda3\\Lib\\site-packages\\requests\\adapters.py:486\u001b[0m, in \u001b[0;36mHTTPAdapter.send\u001b[1;34m(self, request, stream, timeout, verify, cert, proxies)\u001b[0m\n\u001b[0;32m    485\u001b[0m \u001b[38;5;28;01mtry\u001b[39;00m:\n\u001b[1;32m--> 486\u001b[0m     resp \u001b[38;5;241m=\u001b[39m conn\u001b[38;5;241m.\u001b[39murlopen(\n\u001b[0;32m    487\u001b[0m         method\u001b[38;5;241m=\u001b[39mrequest\u001b[38;5;241m.\u001b[39mmethod,\n\u001b[0;32m    488\u001b[0m         url\u001b[38;5;241m=\u001b[39murl,\n\u001b[0;32m    489\u001b[0m         body\u001b[38;5;241m=\u001b[39mrequest\u001b[38;5;241m.\u001b[39mbody,\n\u001b[0;32m    490\u001b[0m         headers\u001b[38;5;241m=\u001b[39mrequest\u001b[38;5;241m.\u001b[39mheaders,\n\u001b[0;32m    491\u001b[0m         redirect\u001b[38;5;241m=\u001b[39m\u001b[38;5;28;01mFalse\u001b[39;00m,\n\u001b[0;32m    492\u001b[0m         assert_same_host\u001b[38;5;241m=\u001b[39m\u001b[38;5;28;01mFalse\u001b[39;00m,\n\u001b[0;32m    493\u001b[0m         preload_content\u001b[38;5;241m=\u001b[39m\u001b[38;5;28;01mFalse\u001b[39;00m,\n\u001b[0;32m    494\u001b[0m         decode_content\u001b[38;5;241m=\u001b[39m\u001b[38;5;28;01mFalse\u001b[39;00m,\n\u001b[0;32m    495\u001b[0m         retries\u001b[38;5;241m=\u001b[39m\u001b[38;5;28mself\u001b[39m\u001b[38;5;241m.\u001b[39mmax_retries,\n\u001b[0;32m    496\u001b[0m         timeout\u001b[38;5;241m=\u001b[39mtimeout,\n\u001b[0;32m    497\u001b[0m         chunked\u001b[38;5;241m=\u001b[39mchunked,\n\u001b[0;32m    498\u001b[0m     )\n\u001b[0;32m    500\u001b[0m \u001b[38;5;28;01mexcept\u001b[39;00m (ProtocolError, \u001b[38;5;167;01mOSError\u001b[39;00m) \u001b[38;5;28;01mas\u001b[39;00m err:\n",
      "File \u001b[1;32m~\\anaconda3\\Lib\\site-packages\\urllib3\\connectionpool.py:798\u001b[0m, in \u001b[0;36mHTTPConnectionPool.urlopen\u001b[1;34m(self, method, url, body, headers, retries, redirect, assert_same_host, timeout, pool_timeout, release_conn, chunked, body_pos, **response_kw)\u001b[0m\n\u001b[0;32m    796\u001b[0m     e \u001b[38;5;241m=\u001b[39m ProtocolError(\u001b[38;5;124m\"\u001b[39m\u001b[38;5;124mConnection aborted.\u001b[39m\u001b[38;5;124m\"\u001b[39m, e)\n\u001b[1;32m--> 798\u001b[0m retries \u001b[38;5;241m=\u001b[39m retries\u001b[38;5;241m.\u001b[39mincrement(\n\u001b[0;32m    799\u001b[0m     method, url, error\u001b[38;5;241m=\u001b[39me, _pool\u001b[38;5;241m=\u001b[39m\u001b[38;5;28mself\u001b[39m, _stacktrace\u001b[38;5;241m=\u001b[39msys\u001b[38;5;241m.\u001b[39mexc_info()[\u001b[38;5;241m2\u001b[39m]\n\u001b[0;32m    800\u001b[0m )\n\u001b[0;32m    801\u001b[0m retries\u001b[38;5;241m.\u001b[39msleep()\n",
      "File \u001b[1;32m~\\anaconda3\\Lib\\site-packages\\urllib3\\util\\retry.py:550\u001b[0m, in \u001b[0;36mRetry.increment\u001b[1;34m(self, method, url, response, error, _pool, _stacktrace)\u001b[0m\n\u001b[0;32m    549\u001b[0m \u001b[38;5;28;01mif\u001b[39;00m read \u001b[38;5;129;01mis\u001b[39;00m \u001b[38;5;28;01mFalse\u001b[39;00m \u001b[38;5;129;01mor\u001b[39;00m \u001b[38;5;129;01mnot\u001b[39;00m \u001b[38;5;28mself\u001b[39m\u001b[38;5;241m.\u001b[39m_is_method_retryable(method):\n\u001b[1;32m--> 550\u001b[0m     \u001b[38;5;28;01mraise\u001b[39;00m six\u001b[38;5;241m.\u001b[39mreraise(\u001b[38;5;28mtype\u001b[39m(error), error, _stacktrace)\n\u001b[0;32m    551\u001b[0m \u001b[38;5;28;01melif\u001b[39;00m read \u001b[38;5;129;01mis\u001b[39;00m \u001b[38;5;129;01mnot\u001b[39;00m \u001b[38;5;28;01mNone\u001b[39;00m:\n",
      "File \u001b[1;32m~\\anaconda3\\Lib\\site-packages\\urllib3\\packages\\six.py:770\u001b[0m, in \u001b[0;36mreraise\u001b[1;34m(tp, value, tb)\u001b[0m\n\u001b[0;32m    769\u001b[0m         \u001b[38;5;28;01mraise\u001b[39;00m value\u001b[38;5;241m.\u001b[39mwith_traceback(tb)\n\u001b[1;32m--> 770\u001b[0m     \u001b[38;5;28;01mraise\u001b[39;00m value\n\u001b[0;32m    771\u001b[0m \u001b[38;5;28;01mfinally\u001b[39;00m:\n",
      "File \u001b[1;32m~\\anaconda3\\Lib\\site-packages\\urllib3\\connectionpool.py:714\u001b[0m, in \u001b[0;36mHTTPConnectionPool.urlopen\u001b[1;34m(self, method, url, body, headers, retries, redirect, assert_same_host, timeout, pool_timeout, release_conn, chunked, body_pos, **response_kw)\u001b[0m\n\u001b[0;32m    713\u001b[0m \u001b[38;5;66;03m# Make the request on the httplib connection object.\u001b[39;00m\n\u001b[1;32m--> 714\u001b[0m httplib_response \u001b[38;5;241m=\u001b[39m \u001b[38;5;28mself\u001b[39m\u001b[38;5;241m.\u001b[39m_make_request(\n\u001b[0;32m    715\u001b[0m     conn,\n\u001b[0;32m    716\u001b[0m     method,\n\u001b[0;32m    717\u001b[0m     url,\n\u001b[0;32m    718\u001b[0m     timeout\u001b[38;5;241m=\u001b[39mtimeout_obj,\n\u001b[0;32m    719\u001b[0m     body\u001b[38;5;241m=\u001b[39mbody,\n\u001b[0;32m    720\u001b[0m     headers\u001b[38;5;241m=\u001b[39mheaders,\n\u001b[0;32m    721\u001b[0m     chunked\u001b[38;5;241m=\u001b[39mchunked,\n\u001b[0;32m    722\u001b[0m )\n\u001b[0;32m    724\u001b[0m \u001b[38;5;66;03m# If we're going to release the connection in ``finally:``, then\u001b[39;00m\n\u001b[0;32m    725\u001b[0m \u001b[38;5;66;03m# the response doesn't need to know about the connection. Otherwise\u001b[39;00m\n\u001b[0;32m    726\u001b[0m \u001b[38;5;66;03m# it will also try to release it and we'll have a double-release\u001b[39;00m\n\u001b[0;32m    727\u001b[0m \u001b[38;5;66;03m# mess.\u001b[39;00m\n",
      "File \u001b[1;32m~\\anaconda3\\Lib\\site-packages\\urllib3\\connectionpool.py:468\u001b[0m, in \u001b[0;36mHTTPConnectionPool._make_request\u001b[1;34m(self, conn, method, url, timeout, chunked, **httplib_request_kw)\u001b[0m\n\u001b[0;32m    467\u001b[0m \u001b[38;5;28;01mexcept\u001b[39;00m (SocketTimeout, BaseSSLError, SocketError) \u001b[38;5;28;01mas\u001b[39;00m e:\n\u001b[1;32m--> 468\u001b[0m     \u001b[38;5;28mself\u001b[39m\u001b[38;5;241m.\u001b[39m_raise_timeout(err\u001b[38;5;241m=\u001b[39me, url\u001b[38;5;241m=\u001b[39murl, timeout_value\u001b[38;5;241m=\u001b[39mread_timeout)\n\u001b[0;32m    469\u001b[0m     \u001b[38;5;28;01mraise\u001b[39;00m\n",
      "File \u001b[1;32m~\\anaconda3\\Lib\\site-packages\\urllib3\\connectionpool.py:357\u001b[0m, in \u001b[0;36mHTTPConnectionPool._raise_timeout\u001b[1;34m(self, err, url, timeout_value)\u001b[0m\n\u001b[0;32m    356\u001b[0m \u001b[38;5;28;01mif\u001b[39;00m \u001b[38;5;28misinstance\u001b[39m(err, SocketTimeout):\n\u001b[1;32m--> 357\u001b[0m     \u001b[38;5;28;01mraise\u001b[39;00m ReadTimeoutError(\n\u001b[0;32m    358\u001b[0m         \u001b[38;5;28mself\u001b[39m, url, \u001b[38;5;124m\"\u001b[39m\u001b[38;5;124mRead timed out. (read timeout=\u001b[39m\u001b[38;5;132;01m%s\u001b[39;00m\u001b[38;5;124m)\u001b[39m\u001b[38;5;124m\"\u001b[39m \u001b[38;5;241m%\u001b[39m timeout_value\n\u001b[0;32m    359\u001b[0m     )\n\u001b[0;32m    361\u001b[0m \u001b[38;5;66;03m# See the above comment about EAGAIN in Python 3. In Python 2 we have\u001b[39;00m\n\u001b[0;32m    362\u001b[0m \u001b[38;5;66;03m# to specifically catch it and throw the timeout error\u001b[39;00m\n",
      "\u001b[1;31mReadTimeoutError\u001b[0m: HTTPSConnectionPool(host='api.genius.com', port=443): Read timed out. (read timeout=5)",
      "\nDuring handling of the above exception, another exception occurred:\n",
      "\u001b[1;31mReadTimeout\u001b[0m                               Traceback (most recent call last)",
      "File \u001b[1;32m~\\anaconda3\\Lib\\site-packages\\lyricsgenius\\api\\base.py:78\u001b[0m, in \u001b[0;36mSender._make_request\u001b[1;34m(self, path, method, params_, public_api, web, **kwargs)\u001b[0m\n\u001b[0;32m     77\u001b[0m \u001b[38;5;28;01mtry\u001b[39;00m:\n\u001b[1;32m---> 78\u001b[0m     response \u001b[38;5;241m=\u001b[39m \u001b[38;5;28mself\u001b[39m\u001b[38;5;241m.\u001b[39m_session\u001b[38;5;241m.\u001b[39mrequest(\n\u001b[0;32m     79\u001b[0m         method,\n\u001b[0;32m     80\u001b[0m         uri,\n\u001b[0;32m     81\u001b[0m         timeout\u001b[38;5;241m=\u001b[39m\u001b[38;5;28mself\u001b[39m\u001b[38;5;241m.\u001b[39mtimeout,\n\u001b[0;32m     82\u001b[0m         params\u001b[38;5;241m=\u001b[39mparams_,\n\u001b[0;32m     83\u001b[0m         headers\u001b[38;5;241m=\u001b[39mheader,\n\u001b[0;32m     84\u001b[0m         \u001b[38;5;241m*\u001b[39m\u001b[38;5;241m*\u001b[39mkwargs,\n\u001b[0;32m     85\u001b[0m     )\n\u001b[0;32m     86\u001b[0m     response\u001b[38;5;241m.\u001b[39mraise_for_status()\n",
      "File \u001b[1;32m~\\anaconda3\\Lib\\site-packages\\requests\\sessions.py:589\u001b[0m, in \u001b[0;36mSession.request\u001b[1;34m(self, method, url, params, data, headers, cookies, files, auth, timeout, allow_redirects, proxies, hooks, stream, verify, cert, json)\u001b[0m\n\u001b[0;32m    588\u001b[0m send_kwargs\u001b[38;5;241m.\u001b[39mupdate(settings)\n\u001b[1;32m--> 589\u001b[0m resp \u001b[38;5;241m=\u001b[39m \u001b[38;5;28mself\u001b[39m\u001b[38;5;241m.\u001b[39msend(prep, \u001b[38;5;241m*\u001b[39m\u001b[38;5;241m*\u001b[39msend_kwargs)\n\u001b[0;32m    591\u001b[0m \u001b[38;5;28;01mreturn\u001b[39;00m resp\n",
      "File \u001b[1;32m~\\anaconda3\\Lib\\site-packages\\requests\\sessions.py:703\u001b[0m, in \u001b[0;36mSession.send\u001b[1;34m(self, request, **kwargs)\u001b[0m\n\u001b[0;32m    702\u001b[0m \u001b[38;5;66;03m# Send the request\u001b[39;00m\n\u001b[1;32m--> 703\u001b[0m r \u001b[38;5;241m=\u001b[39m adapter\u001b[38;5;241m.\u001b[39msend(request, \u001b[38;5;241m*\u001b[39m\u001b[38;5;241m*\u001b[39mkwargs)\n\u001b[0;32m    705\u001b[0m \u001b[38;5;66;03m# Total elapsed time of the request (approximately)\u001b[39;00m\n",
      "File \u001b[1;32m~\\anaconda3\\Lib\\site-packages\\requests\\adapters.py:532\u001b[0m, in \u001b[0;36mHTTPAdapter.send\u001b[1;34m(self, request, stream, timeout, verify, cert, proxies)\u001b[0m\n\u001b[0;32m    531\u001b[0m \u001b[38;5;28;01melif\u001b[39;00m \u001b[38;5;28misinstance\u001b[39m(e, ReadTimeoutError):\n\u001b[1;32m--> 532\u001b[0m     \u001b[38;5;28;01mraise\u001b[39;00m ReadTimeout(e, request\u001b[38;5;241m=\u001b[39mrequest)\n\u001b[0;32m    533\u001b[0m \u001b[38;5;28;01melif\u001b[39;00m \u001b[38;5;28misinstance\u001b[39m(e, _InvalidHeader):\n",
      "\u001b[1;31mReadTimeout\u001b[0m: HTTPSConnectionPool(host='api.genius.com', port=443): Read timed out. (read timeout=5)",
      "\nThe above exception was the direct cause of the following exception:\n",
      "\u001b[1;31mTimeout\u001b[0m                                   Traceback (most recent call last)",
      "Cell \u001b[1;32mIn[22], line 2\u001b[0m\n\u001b[0;32m      1\u001b[0m \u001b[38;5;66;03m# 4️⃣ Search & print lyrics snippet\u001b[39;00m\n\u001b[1;32m----> 2\u001b[0m song \u001b[38;5;241m=\u001b[39m genius\u001b[38;5;241m.\u001b[39msearch_song(title, artist)\n\u001b[0;32m      3\u001b[0m \u001b[38;5;28mprint\u001b[39m(song\u001b[38;5;241m.\u001b[39mlyrics)\n",
      "File \u001b[1;32m~\\anaconda3\\Lib\\site-packages\\lyricsgenius\\genius.py:451\u001b[0m, in \u001b[0;36mGenius.search_song\u001b[1;34m(self, title, artist, song_id, get_full_info)\u001b[0m\n\u001b[0;32m    449\u001b[0m \u001b[38;5;66;03m# Download full song info (an API call) unless told not to by user\u001b[39;00m\n\u001b[0;32m    450\u001b[0m \u001b[38;5;28;01mif\u001b[39;00m song_id \u001b[38;5;129;01mis\u001b[39;00m \u001b[38;5;28;01mNone\u001b[39;00m \u001b[38;5;129;01mand\u001b[39;00m get_full_info:\n\u001b[1;32m--> 451\u001b[0m     song_info\u001b[38;5;241m.\u001b[39mupdate(\u001b[38;5;28mself\u001b[39m\u001b[38;5;241m.\u001b[39msong(song_info[\u001b[38;5;124m\"\u001b[39m\u001b[38;5;124mid\u001b[39m\u001b[38;5;124m\"\u001b[39m])[\u001b[38;5;124m\"\u001b[39m\u001b[38;5;124msong\u001b[39m\u001b[38;5;124m\"\u001b[39m])\n\u001b[0;32m    453\u001b[0m \u001b[38;5;28;01mif\u001b[39;00m song_info[\u001b[38;5;124m\"\u001b[39m\u001b[38;5;124mlyrics_state\u001b[39m\u001b[38;5;124m\"\u001b[39m] \u001b[38;5;241m==\u001b[39m \u001b[38;5;124m\"\u001b[39m\u001b[38;5;124mcomplete\u001b[39m\u001b[38;5;124m\"\u001b[39m \u001b[38;5;129;01mand\u001b[39;00m \u001b[38;5;129;01mnot\u001b[39;00m song_info\u001b[38;5;241m.\u001b[39mget(\n\u001b[0;32m    454\u001b[0m     \u001b[38;5;124m\"\u001b[39m\u001b[38;5;124minstrumental\u001b[39m\u001b[38;5;124m\"\u001b[39m\n\u001b[0;32m    455\u001b[0m ):\n\u001b[0;32m    456\u001b[0m     lyrics \u001b[38;5;241m=\u001b[39m \u001b[38;5;28mself\u001b[39m\u001b[38;5;241m.\u001b[39mlyrics(song_url\u001b[38;5;241m=\u001b[39msong_info[\u001b[38;5;124m\"\u001b[39m\u001b[38;5;124murl\u001b[39m\u001b[38;5;124m\"\u001b[39m])\n",
      "File \u001b[1;32m~\\anaconda3\\Lib\\site-packages\\lyricsgenius\\api\\api.py:466\u001b[0m, in \u001b[0;36mAPI.song\u001b[1;34m(self, song_id, text_format)\u001b[0m\n\u001b[0;32m    464\u001b[0m endpoint \u001b[38;5;241m=\u001b[39m \u001b[38;5;124m\"\u001b[39m\u001b[38;5;124msongs/\u001b[39m\u001b[38;5;132;01m{id}\u001b[39;00m\u001b[38;5;124m\"\u001b[39m\u001b[38;5;241m.\u001b[39mformat(\u001b[38;5;28mid\u001b[39m\u001b[38;5;241m=\u001b[39msong_id)\n\u001b[0;32m    465\u001b[0m params \u001b[38;5;241m=\u001b[39m {\u001b[38;5;124m\"\u001b[39m\u001b[38;5;124mtext_format\u001b[39m\u001b[38;5;124m\"\u001b[39m: text_format \u001b[38;5;129;01mor\u001b[39;00m \u001b[38;5;28mself\u001b[39m\u001b[38;5;241m.\u001b[39mresponse_format}\n\u001b[1;32m--> 466\u001b[0m \u001b[38;5;28;01mreturn\u001b[39;00m \u001b[38;5;28mself\u001b[39m\u001b[38;5;241m.\u001b[39m_make_request(endpoint, params_\u001b[38;5;241m=\u001b[39mparams)\n",
      "File \u001b[1;32m~\\anaconda3\\Lib\\site-packages\\lyricsgenius\\api\\base.py:90\u001b[0m, in \u001b[0;36mSender._make_request\u001b[1;34m(self, path, method, params_, public_api, web, **kwargs)\u001b[0m\n\u001b[0;32m     88\u001b[0m     error \u001b[38;5;241m=\u001b[39m \u001b[38;5;124m\"\u001b[39m\u001b[38;5;124mRequest timed out:\u001b[39m\u001b[38;5;130;01m\\n\u001b[39;00m\u001b[38;5;132;01m{e}\u001b[39;00m\u001b[38;5;124m\"\u001b[39m\u001b[38;5;241m.\u001b[39mformat(e\u001b[38;5;241m=\u001b[39me)\n\u001b[0;32m     89\u001b[0m     \u001b[38;5;28;01mif\u001b[39;00m tries \u001b[38;5;241m>\u001b[39m \u001b[38;5;28mself\u001b[39m\u001b[38;5;241m.\u001b[39mretries:\n\u001b[1;32m---> 90\u001b[0m         \u001b[38;5;28;01mraise\u001b[39;00m Timeout(error) \u001b[38;5;28;01mfrom\u001b[39;00m \u001b[38;5;21;01me\u001b[39;00m\n\u001b[0;32m     91\u001b[0m \u001b[38;5;28;01mexcept\u001b[39;00m HTTPError \u001b[38;5;28;01mas\u001b[39;00m e:\n\u001b[0;32m     92\u001b[0m     error \u001b[38;5;241m=\u001b[39m get_description(e)\n",
      "\u001b[1;31mTimeout\u001b[0m: Request timed out:\nHTTPSConnectionPool(host='api.genius.com', port=443): Read timed out. (read timeout=5)"
     ]
    }
   ],
   "source": [
    "# 4️⃣ Search & print lyrics snippet\n",
    "song = genius.search_song(title, artist)\n",
    "print(song.lyrics)"
   ]
  },
  {
   "cell_type": "code",
   "execution_count": null,
   "id": "6449fa5d-fac5-461c-89f8-62e60ad82df4",
   "metadata": {},
   "outputs": [],
   "source": []
  }
 ],
 "metadata": {
  "kernelspec": {
   "display_name": "Python 3 (ipykernel)",
   "language": "python",
   "name": "python3"
  },
  "language_info": {
   "codemirror_mode": {
    "name": "ipython",
    "version": 3
   },
   "file_extension": ".py",
   "mimetype": "text/x-python",
   "name": "python",
   "nbconvert_exporter": "python",
   "pygments_lexer": "ipython3",
   "version": "3.11.5"
  }
 },
 "nbformat": 4,
 "nbformat_minor": 5
}
