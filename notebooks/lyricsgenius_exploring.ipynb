{
 "cells": [
  {
   "cell_type": "markdown",
   "id": "fdcc8b7c-9b9e-4afa-9293-873e1dee1802",
   "metadata": {},
   "source": [
    "# 🎸 Exploring the `lyricsgenius` Library\n"
   ]
  },
  {
   "cell_type": "markdown",
   "id": "34fbed38-6290-414f-8f32-1d4d476f1868",
   "metadata": {},
   "source": [
    "**Goal:** Understand how to use the `Genius` client, inspect returned objects, and get ready to fetch & save lyrics.\n"
   ]
  },
  {
   "cell_type": "markdown",
   "id": "b961079c-70f2-40d0-98de-03b60fcd45d2",
   "metadata": {},
   "source": [
    "## 1. Install & import\n"
   ]
  },
  {
   "cell_type": "markdown",
   "id": "2da34052-5e8d-4d34-9a99-a483f5ef16a7",
   "metadata": {},
   "source": [
    "run once if not installed already"
   ]
  },
  {
   "cell_type": "code",
   "execution_count": 3,
   "id": "d2f992aa-822f-4c2a-b000-3572e0d7e26d",
   "metadata": {
    "tags": []
   },
   "outputs": [
    {
     "name": "stdout",
     "output_type": "stream",
     "text": [
      "Requirement already satisfied: lyricsgenius in c:\\users\\royic\\anaconda3\\lib\\site-packages (3.6.2)\n",
      "Requirement already satisfied: beautifulsoup4>=4.12.3 in c:\\users\\royic\\anaconda3\\lib\\site-packages (from lyricsgenius) (4.13.4)\n",
      "Requirement already satisfied: requests>=2.27.1 in c:\\users\\royic\\anaconda3\\lib\\site-packages (from lyricsgenius) (2.31.0)\n",
      "Requirement already satisfied: soupsieve>1.2 in c:\\users\\royic\\anaconda3\\lib\\site-packages (from beautifulsoup4>=4.12.3->lyricsgenius) (2.4)\n",
      "Requirement already satisfied: typing-extensions>=4.0.0 in c:\\users\\royic\\anaconda3\\lib\\site-packages (from beautifulsoup4>=4.12.3->lyricsgenius) (4.12.2)\n",
      "Requirement already satisfied: charset-normalizer<4,>=2 in c:\\users\\royic\\anaconda3\\lib\\site-packages (from requests>=2.27.1->lyricsgenius) (2.0.4)\n",
      "Requirement already satisfied: idna<4,>=2.5 in c:\\users\\royic\\anaconda3\\lib\\site-packages (from requests>=2.27.1->lyricsgenius) (3.4)\n",
      "Requirement already satisfied: urllib3<3,>=1.21.1 in c:\\users\\royic\\anaconda3\\lib\\site-packages (from requests>=2.27.1->lyricsgenius) (1.26.16)\n",
      "Requirement already satisfied: certifi>=2017.4.17 in c:\\users\\royic\\anaconda3\\lib\\site-packages (from requests>=2.27.1->lyricsgenius) (2024.2.2)\n",
      "Note: you may need to restart the kernel to use updated packages.\n"
     ]
    }
   ],
   "source": [
    "%pip install lyricsgenius"
   ]
  },
  {
   "cell_type": "code",
   "execution_count": 2,
   "id": "6a1929ca-a7bd-43b1-9a9e-1a404bb48939",
   "metadata": {
    "tags": []
   },
   "outputs": [],
   "source": [
    "import lyricsgenius as lg"
   ]
  },
  {
   "cell_type": "code",
   "execution_count": 5,
   "id": "46b135ab-83f7-4aa1-b70d-a73ae3f3ca6a",
   "metadata": {
    "tags": []
   },
   "outputs": [],
   "source": [
    "from dotenv import load_dotenv\n",
    "import os"
   ]
  },
  {
   "cell_type": "code",
   "execution_count": 6,
   "id": "9876ec55-7347-4af4-92eb-0008dca7cfec",
   "metadata": {
    "tags": []
   },
   "outputs": [
    {
     "data": {
      "text/plain": [
       "True"
      ]
     },
     "execution_count": 6,
     "metadata": {},
     "output_type": "execute_result"
    }
   ],
   "source": [
    "# look for .env in your current working directory\n",
    "load_dotenv()"
   ]
  },
  {
   "cell_type": "code",
   "execution_count": 7,
   "id": "ae44428d-6f8a-4edf-819f-42a32212dabd",
   "metadata": {
    "tags": []
   },
   "outputs": [],
   "source": [
    "genius = lg.Genius(access_token=os.getenv(\"TOKEN\"))"
   ]
  },
  {
   "cell_type": "markdown",
   "id": "325533d9-eeff-4cec-847f-cab4ad4d3e10",
   "metadata": {},
   "source": [
    "## 2. Test a simple search"
   ]
  },
  {
   "cell_type": "markdown",
   "id": "8568542b-8a08-4a4b-b158-a2bd02edcc2d",
   "metadata": {},
   "source": [
    "`Genius.search_song(title=None, artist='', song_id=None, get_full_info=True)`\n",
    "\n",
    "Searches for a specific song and gets its lyrics.\n",
    "\n",
    "You must pass either a `title` or a `song_id`.\n",
    "\n",
    "**Parameters**\n",
    "- title (`str`) – Song title to search for.\n",
    "- artist (`str`, optional) – Name of the artist.\n",
    "- get_full_info (`bool`, optional) – Get full info for each song (slower).\n",
    "- song_id (`int`, optional) – Song ID."
   ]
  },
  {
   "cell_type": "code",
   "execution_count": 9,
   "id": "421e4fa9-a878-4f2e-8b28-f39728173d51",
   "metadata": {
    "tags": []
   },
   "outputs": [
    {
     "name": "stdout",
     "output_type": "stream",
     "text": [
      "Searching for \"Bad Guy\" by Billie Eilish...\n",
      "Done.\n",
      "<class 'lyricsgenius.types.song.Song'>\n",
      "bad guy Billie Eilish\n",
      "358 ContributorsTranslationsСрпскиTürkçeSvenskaEspañolРусскийRomânăPortuguêsPolskiItalianoHebrewDeutschFrançaisفارسیNederlandsDanskChinese TraditionalΕλληνικάالعربيةไทย / Phasa ThaiČeskybad guy Lyrics“bad guy” is a playful, bass-heavy track that sees Eilish taunting her lover, flaunting her tough nature while questioning his own.\n",
      "\n",
      "It was first proven to exist after Eilish teased a snippet of the track on… Read More [Verse 1]\n",
      "White shirt now red, my bloody nose\n",
      "Sleepin', you're on your tippy toes\n",
      "Creepin' around like no one knows\n",
      "Think you're so criminal\n",
      "Bruises on both my knees for you\n",
      "Don't say thank you or please\n",
      "I do what I want when I'm wanting to\n",
      "My soul? So cynical\n",
      "\n",
      "[Pre-Chorus]\n",
      "So you're a tough guy\n",
      "Like it really rough guy\n",
      "Just can't get enough guy\n",
      "Chest always so puffed guy\n",
      "I'm that bad type\n",
      "Make your mama sad type\n",
      "Make your girlfriend mad tight\n",
      "Might seduce your dad type\n",
      "I'm the bad guy\n",
      "Duh\n",
      "\n",
      "[Chorus]\n",
      "I'm the bad guy\n",
      "\n",
      "[Verse 2]\n",
      "I like it when you take control\n",
      "Even if you know that you don't\n",
      "Own me, I'll let you play the role\n",
      "I'll be your animal\n",
      "My mommy likes to sing along with me\n",
      "But she won't sing this song\n",
      "If she reads all the lyrics\n",
      "She'll pity the men I know\n",
      "\n",
      "\n",
      "[Pre-Chorus]\n",
      "So you're a tough guy\n",
      "Like it really rough guy\n",
      "Just can't get enough guy\n",
      "Chest always so puffed guy\n",
      "I'm that bad type\n",
      "Make your mama sad type\n",
      "Make your girlfriend mad tight\n",
      "Might seduce your dad type\n",
      "I'm the bad guy\n",
      "Duh\n",
      "\n",
      "[Chorus]\n",
      "I'm the bad guy, duh\n",
      "I'm only good at bein' bad, bad\n",
      "[Bridge]\n",
      "I like when you get mad\n",
      "I guess I'm pretty glad that you're alone\n",
      "You said she's scared of me?\n",
      "I mean, I don't see what she sees\n",
      "But maybe it's 'cause I'm wearing your cologne\n",
      "\n",
      "[Outro]\n",
      "I'm a bad guy\n",
      "I'm, I'm a bad guy\n",
      "Bad guy, bad guy\n",
      "I'm a bad\n"
     ]
    }
   ],
   "source": [
    "# Search for “Bad Guy” by Billie Eilish\n",
    "song = genius.search_song(\"Bad Guy\", \"Billie Eilish\")\n",
    "print(type(song))         # what object did we get?\n",
    "print(song.title, song.artist)\n",
    "\n",
    "# Inspect its attributes\n",
    "print(song.lyrics)"
   ]
  },
  {
   "cell_type": "markdown",
   "id": "d0f661e5-eb12-4e5d-88b4-642f2b19b88f",
   "metadata": {},
   "source": [
    "`save_lyrics(filename=None, extension='json', overwrite=False, ensure_ascii=True, sanitize=True, verbose=True)`\n",
    "\n",
    "Save Song(s) lyrics and metadata to a JSON or TXT file.\n",
    "\n",
    "If the extension is ‘json’ (the default), the lyrics will be saved alongside the song’s information. Take a look at the example below.\n",
    "\n",
    "**Parameters**\n",
    "- filename (`str`, optional) – Output filename, a string. If not specified, the result is returned as a string.\n",
    "- extension (`str`, optional) – Format of the file (json or txt).\n",
    "- overwrite (`bool`, optional) – Overwrites preexisting file if True. Otherwise prompts user for input.\n",
    "- ensure_ascii (`bool`, optional) – If ensure_ascii is true (the default), the output is guaranteed to have all incoming non-ASCII characters escaped.\n",
    "- sanitize (`bool`, optional) – Sanitizes the filename if True.\n",
    "- verbose (`bool`, optional) – prints operation result.\n",
    "\n",
    "**Warning**\n",
    "If you set sanitize to False, the file name may contain invalid characters, and thefore cause the saving to fail."
   ]
  },
  {
   "cell_type": "code",
   "execution_count": 13,
   "id": "cadc301a-7cca-4d81-adf1-31b8d94a4c31",
   "metadata": {
    "tags": []
   },
   "outputs": [
    {
     "name": "stdout",
     "output_type": "stream",
     "text": [
      "Wrote ../data/raw/lyrics/bad_guy.json.\n"
     ]
    }
   ],
   "source": [
    "song.save_lyrics(filename='../data/raw/lyrics/bad_guy.json', sanitize=False)"
   ]
  },
  {
   "cell_type": "code",
   "execution_count": null,
   "id": "1e6766b0-e002-4654-b78b-15ead6ae850a",
   "metadata": {},
   "outputs": [],
   "source": []
  }
 ],
 "metadata": {
  "kernelspec": {
   "display_name": "Python 3 (ipykernel)",
   "language": "python",
   "name": "python3"
  },
  "language_info": {
   "codemirror_mode": {
    "name": "ipython",
    "version": 3
   },
   "file_extension": ".py",
   "mimetype": "text/x-python",
   "name": "python",
   "nbconvert_exporter": "python",
   "pygments_lexer": "ipython3",
   "version": "3.11.5"
  }
 },
 "nbformat": 4,
 "nbformat_minor": 5
}
