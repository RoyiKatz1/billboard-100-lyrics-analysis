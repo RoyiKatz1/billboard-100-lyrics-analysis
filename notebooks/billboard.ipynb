{
 "cells": [
  {
   "cell_type": "code",
   "execution_count": 1,
   "id": "8c24a177-bd02-45f8-8b9f-89dd90af8717",
   "metadata": {
    "tags": []
   },
   "outputs": [],
   "source": [
    "import billboard\n",
    "import datetime"
   ]
  },
  {
   "cell_type": "code",
   "execution_count": 2,
   "id": "e8c5a2c8-bfc1-4dea-b238-77208824ba23",
   "metadata": {
    "tags": []
   },
   "outputs": [],
   "source": [
    "c = billboard.ChartData('hot-100')"
   ]
  },
  {
   "cell_type": "code",
   "execution_count": 3,
   "id": "0a204042-c622-42c8-afa9-2476b28a9745",
   "metadata": {
    "tags": []
   },
   "outputs": [
    {
     "data": {
      "text/plain": [
       "[billboard.ChartEntry(title='Luther', artist='Kendrick Lamar & SZA'),\n",
       " billboard.ChartEntry(title='Die With A Smile', artist='Lady Gaga & Bruno Mars'),\n",
       " billboard.ChartEntry(title='Ordinary', artist='Alex Warren'),\n",
       " billboard.ChartEntry(title='Nokia', artist='Drake'),\n",
       " billboard.ChartEntry(title='A Bar Song (Tipsy)', artist='Shaboozey'),\n",
       " billboard.ChartEntry(title='Pink Pony Club', artist='Chappell Roan'),\n",
       " billboard.ChartEntry(title=\"I'm The Problem\", artist='Morgan Wallen'),\n",
       " billboard.ChartEntry(title=\"I Ain't Coming Back\", artist='Morgan Wallen & Post Malone'),\n",
       " billboard.ChartEntry(title='Lose Control', artist='Teddy Swims'),\n",
       " billboard.ChartEntry(title='Beautiful Things', artist='Benson Boone'),\n",
       " billboard.ChartEntry(title='All The Way', artist='BigXthaPlug Featuring Bailey Zimmerman'),\n",
       " billboard.ChartEntry(title='Anxiety', artist='Doechii'),\n",
       " billboard.ChartEntry(title='Birds Of A Feather', artist='Billie Eilish'),\n",
       " billboard.ChartEntry(title='Just In Case', artist='Morgan Wallen'),\n",
       " billboard.ChartEntry(title='I Had Some Help', artist='Post Malone Featuring Morgan Wallen'),\n",
       " billboard.ChartEntry(title='APT.', artist='ROSE & Bruno Mars'),\n",
       " billboard.ChartEntry(title='Love Somebody', artist='Morgan Wallen'),\n",
       " billboard.ChartEntry(title='Mutt', artist='Leon Thomas'),\n",
       " billboard.ChartEntry(title='Espresso', artist='Sabrina Carpenter'),\n",
       " billboard.ChartEntry(title=\"That's So True\", artist='Gracie Abrams'),\n",
       " billboard.ChartEntry(title='Not Like Us', artist='Kendrick Lamar'),\n",
       " billboard.ChartEntry(title='Messy', artist='Lola Young'),\n",
       " billboard.ChartEntry(title='TV Off', artist='Kendrick Lamar Featuring Lefty Gunplay'),\n",
       " billboard.ChartEntry(title='30 For 30', artist='SZA With Kendrick Lamar'),\n",
       " billboard.ChartEntry(title='Sports Car', artist='Tate McRae'),\n",
       " billboard.ChartEntry(title='Abracadabra', artist='Lady Gaga'),\n",
       " billboard.ChartEntry(title='Squabble Up', artist='Kendrick Lamar'),\n",
       " billboard.ChartEntry(title='Stargazing', artist='Myles Smith'),\n",
       " billboard.ChartEntry(title='No One Noticed', artist='The Marias'),\n",
       " billboard.ChartEntry(title='Bad Dreams', artist='Teddy Swims'),\n",
       " billboard.ChartEntry(title='I Never Lie', artist='Zach Top'),\n",
       " billboard.ChartEntry(title='Timeless', artist='The Weeknd & Playboi Carti'),\n",
       " billboard.ChartEntry(title='Taste', artist='Sabrina Carpenter'),\n",
       " billboard.ChartEntry(title=\"Sorry I'm Here For Someone Else\", artist='Benson Boone'),\n",
       " billboard.ChartEntry(title='Blue Strips', artist='Jessie Murph'),\n",
       " billboard.ChartEntry(title='Worst Way', artist='Riley Green'),\n",
       " billboard.ChartEntry(title='Good News', artist='Shaboozey'),\n",
       " billboard.ChartEntry(title='Sailor Song', artist='Gigi Perez'),\n",
       " billboard.ChartEntry(title=\"Weren't For The Wind\", artist='Ella Langley'),\n",
       " billboard.ChartEntry(title='Hard Fought Hallelujah', artist='Brandon Lake X Jelly Roll'),\n",
       " billboard.ChartEntry(title=\"I'm A Little Crazy\", artist='Morgan Wallen'),\n",
       " billboard.ChartEntry(title='Azizam', artist='Ed Sheeran'),\n",
       " billboard.ChartEntry(title='Wildflower', artist='Billie Eilish'),\n",
       " billboard.ChartEntry(title='Cry For Me', artist='The Weeknd'),\n",
       " billboard.ChartEntry(title='Dark Thoughts', artist='Lil Tecca'),\n",
       " billboard.ChartEntry(title='Residuals', artist='Chris Brown'),\n",
       " billboard.ChartEntry(title='Denial Is A River', artist='Doechii'),\n",
       " billboard.ChartEntry(title='DTMF', artist='Bad Bunny'),\n",
       " billboard.ChartEntry(title='Indigo', artist='Sam Barber Featuring Avery Anna'),\n",
       " billboard.ChartEntry(title='Am I Okay?', artist='Megan Moroney'),\n",
       " billboard.ChartEntry(title='Back To Friends', artist='sombr'),\n",
       " billboard.ChartEntry(title='Me Jalo', artist='Fuerza Regida & Grupo Frontera'),\n",
       " billboard.ChartEntry(title='Love Me Not', artist='Ravyn Lenae'),\n",
       " billboard.ChartEntry(title='Smile', artist='Morgan Wallen'),\n",
       " billboard.ChartEntry(title='Twilight Zone', artist='Ariana Grande'),\n",
       " billboard.ChartEntry(title='Somebody Loves Me', artist='PARTYNEXTDOOR & Drake'),\n",
       " billboard.ChartEntry(title='Undressed', artist='sombr'),\n",
       " billboard.ChartEntry(title='Revolving Door', artist='Tate McRae'),\n",
       " billboard.ChartEntry(title='Baile Inolvidable', artist='Bad Bunny'),\n",
       " billboard.ChartEntry(title='Rather Lie', artist='Playboi Carti & The Weeknd'),\n",
       " billboard.ChartEntry(title='The Giver', artist='Chappell Roan'),\n",
       " billboard.ChartEntry(title='Peekaboo', artist='Kendrick Lamar Featuring AzChike'),\n",
       " billboard.ChartEntry(title='BMF', artist='SZA'),\n",
       " billboard.ChartEntry(title=\"Fix What You Didn't Break\", artist='Nate Smith'),\n",
       " billboard.ChartEntry(title='Holy Smokes', artist='Bailey Zimmerman'),\n",
       " billboard.ChartEntry(title=\"Somethin' 'Bout A Woman\", artist='Thomas Rhett Featuring Teddy Swims'),\n",
       " billboard.ChartEntry(title='Te Queria Ver', artist='Aleman X Neton Vega'),\n",
       " billboard.ChartEntry(title='Friends Like That', artist='John Morgan Featuring Jason Aldean'),\n",
       " billboard.ChartEntry(title='Loco', artist='Neton Vega'),\n",
       " billboard.ChartEntry(title='Texas', artist='Blake Shelton'),\n",
       " billboard.ChartEntry(title='Happen To Me', artist='Russell Dickerson'),\n",
       " billboard.ChartEntry(title=\"Your Way's Better\", artist='Forrest Frank'),\n",
       " billboard.ChartEntry(title='Backseat Driver', artist='Kane Brown'),\n",
       " billboard.ChartEntry(title='Busy Woman', artist='Sabrina Carpenter'),\n",
       " billboard.ChartEntry(title='Are You Even Real', artist='Teddy Swims & GIVEON'),\n",
       " billboard.ChartEntry(title='Ojos Tristes', artist='Selena Gomez, benny blanco & The Marias'),\n",
       " billboard.ChartEntry(title='EOO', artist='Bad Bunny'),\n",
       " billboard.ChartEntry(title=\"Steve's Lava Chicken\", artist='Jack Black'),\n",
       " billboard.ChartEntry(title='The Largest', artist='BigXthaPlug'),\n",
       " billboard.ChartEntry(title='No Pole', artist='Don Toliver'),\n",
       " billboard.ChartEntry(title='Feel It', artist='d4vd'),\n",
       " billboard.ChartEntry(title='Die Trying', artist='PARTYNEXTDOOR, Drake & Yebba'),\n",
       " billboard.ChartEntry(title='Like Him', artist='Tyler, The Creator Featuring Lola Young'),\n",
       " billboard.ChartEntry(title='Morena', artist='Neton Vega & Peso Pluma'),\n",
       " billboard.ChartEntry(title='Haunted', artist='Kane Brown With Jelly Roll'),\n",
       " billboard.ChartEntry(title='Gimme A Hug', artist='Drake'),\n",
       " billboard.ChartEntry(title='Headphones On', artist='Addison Rae'),\n",
       " billboard.ChartEntry(title='End Of The World', artist='Miley Cyrus'),\n",
       " billboard.ChartEntry(title='Whiskey Drink', artist='Jason Aldean'),\n",
       " billboard.ChartEntry(title='Call Me When You Break Up', artist='Selena Gomez, benny blanco & Gracie Abrams'),\n",
       " billboard.ChartEntry(title='Forever To Me', artist='Cole Swindell'),\n",
       " billboard.ChartEntry(title='Whim Whamiee', artist='PLUTO & YKNIECE'),\n",
       " billboard.ChartEntry(title='Chest Pain (I Love)', artist='Malcolm Todd'),\n",
       " billboard.ChartEntry(title='Nuevayol', artist='Bad Bunny'),\n",
       " billboard.ChartEntry(title='Party 4 U', artist='Charli xcx'),\n",
       " billboard.ChartEntry(title='Actin Up', artist='Tommy Richman'),\n",
       " billboard.ChartEntry(title='Tattoo', artist='Tito Double P'),\n",
       " billboard.ChartEntry(title='House Again', artist='Hudson Westbrook'),\n",
       " billboard.ChartEntry(title='like JENNIE', artist='JENNIE'),\n",
       " billboard.ChartEntry(title='Caramel', artist='Sleep Token')]"
      ]
     },
     "execution_count": 3,
     "metadata": {},
     "output_type": "execute_result"
    }
   ],
   "source": [
    "c.entries"
   ]
  },
  {
   "cell_type": "code",
   "execution_count": 4,
   "id": "cbc31acb-c517-48bf-9018-fde43fc6f813",
   "metadata": {
    "tags": []
   },
   "outputs": [
    {
     "data": {
      "text/plain": [
       "'2025-05-03'"
      ]
     },
     "execution_count": 4,
     "metadata": {},
     "output_type": "execute_result"
    }
   ],
   "source": [
    "c.date"
   ]
  },
  {
   "cell_type": "code",
   "execution_count": 8,
   "id": "42eea88c-db7f-4186-9ca2-ed32d414772e",
   "metadata": {
    "tags": []
   },
   "outputs": [
    {
     "data": {
      "text/plain": [
       "[datetime.date(2024, 12, 31),\n",
       " datetime.date(2024, 12, 24),\n",
       " datetime.date(2024, 12, 17),\n",
       " datetime.date(2024, 12, 10),\n",
       " datetime.date(2024, 12, 3),\n",
       " datetime.date(2024, 11, 26),\n",
       " datetime.date(2024, 11, 19),\n",
       " datetime.date(2024, 11, 12),\n",
       " datetime.date(2024, 11, 5),\n",
       " datetime.date(2024, 10, 29),\n",
       " datetime.date(2024, 10, 22),\n",
       " datetime.date(2024, 10, 15),\n",
       " datetime.date(2024, 10, 8),\n",
       " datetime.date(2024, 10, 1),\n",
       " datetime.date(2024, 9, 24),\n",
       " datetime.date(2024, 9, 17),\n",
       " datetime.date(2024, 9, 10),\n",
       " datetime.date(2024, 9, 3),\n",
       " datetime.date(2024, 8, 27),\n",
       " datetime.date(2024, 8, 20),\n",
       " datetime.date(2024, 8, 13),\n",
       " datetime.date(2024, 8, 6),\n",
       " datetime.date(2024, 7, 30),\n",
       " datetime.date(2024, 7, 23),\n",
       " datetime.date(2024, 7, 16),\n",
       " datetime.date(2024, 7, 9),\n",
       " datetime.date(2024, 7, 2),\n",
       " datetime.date(2024, 6, 25),\n",
       " datetime.date(2024, 6, 18),\n",
       " datetime.date(2024, 6, 11),\n",
       " datetime.date(2024, 6, 4),\n",
       " datetime.date(2024, 5, 28),\n",
       " datetime.date(2024, 5, 21),\n",
       " datetime.date(2024, 5, 14),\n",
       " datetime.date(2024, 5, 7),\n",
       " datetime.date(2024, 4, 30),\n",
       " datetime.date(2024, 4, 23),\n",
       " datetime.date(2024, 4, 16),\n",
       " datetime.date(2024, 4, 9),\n",
       " datetime.date(2024, 4, 2),\n",
       " datetime.date(2024, 3, 26),\n",
       " datetime.date(2024, 3, 19),\n",
       " datetime.date(2024, 3, 12),\n",
       " datetime.date(2024, 3, 5),\n",
       " datetime.date(2024, 2, 27),\n",
       " datetime.date(2024, 2, 20),\n",
       " datetime.date(2024, 2, 13),\n",
       " datetime.date(2024, 2, 6),\n",
       " datetime.date(2024, 1, 30),\n",
       " datetime.date(2024, 1, 23),\n",
       " datetime.date(2024, 1, 16),\n",
       " datetime.date(2024, 1, 9),\n",
       " datetime.date(2024, 1, 2)]"
      ]
     },
     "execution_count": 8,
     "metadata": {},
     "output_type": "execute_result"
    }
   ],
   "source": [
    "last_week = datetime.date(2024, 12, 31)\n",
    "weeks = []\n",
    "\n",
    "while last_week.year == 2024:\n",
    "    weeks.append(last_week)\n",
    "    last_week -= datetime.timedelta(weeks=1)\n",
    "weeks"
   ]
  },
  {
   "cell_type": "code",
   "execution_count": 9,
   "id": "fb60dff5-7972-4fd1-bda5-4d9238ddf78e",
   "metadata": {
    "tags": []
   },
   "outputs": [],
   "source": [
    "charts = [billboard.ChartData('hot-100', week) for week in weeks]"
   ]
  },
  {
   "cell_type": "code",
   "execution_count": 10,
   "id": "6882ea1a-0cd0-4dde-a5b5-1e4bcf546783",
   "metadata": {
    "tags": []
   },
   "outputs": [
    {
     "name": "stdout",
     "output_type": "stream",
     "text": [
      "2025-01-04: All I Want For Christmas Is You by Mariah Carey\n",
      "2024-12-28: All I Want For Christmas Is You by Mariah Carey\n",
      "2024-12-21: All I Want For Christmas Is You by Mariah Carey\n",
      "2024-12-14: All I Want For Christmas Is You by Mariah Carey\n",
      "2024-12-07: Squabble Up by Kendrick Lamar\n",
      "2024-11-30: A Bar Song (Tipsy) by Shaboozey\n",
      "2024-11-23: A Bar Song (Tipsy) by Shaboozey\n",
      "2024-11-16: A Bar Song (Tipsy) by Shaboozey\n",
      "2024-11-09: A Bar Song (Tipsy) by Shaboozey\n",
      "2024-11-02: Love Somebody by Morgan Wallen\n",
      "2024-10-26: A Bar Song (Tipsy) by Shaboozey\n",
      "2024-10-19: A Bar Song (Tipsy) by Shaboozey\n",
      "2024-10-12: A Bar Song (Tipsy) by Shaboozey\n",
      "2024-10-05: A Bar Song (Tipsy) by Shaboozey\n",
      "2024-09-28: A Bar Song (Tipsy) by Shaboozey\n",
      "2024-09-21: A Bar Song (Tipsy) by Shaboozey\n",
      "2024-09-14: A Bar Song (Tipsy) by Shaboozey\n",
      "2024-09-07: A Bar Song (Tipsy) by Shaboozey\n",
      "2024-08-31: A Bar Song (Tipsy) by Shaboozey\n",
      "2024-08-24: A Bar Song (Tipsy) by Shaboozey\n",
      "2024-08-17: A Bar Song (Tipsy) by Shaboozey\n",
      "2024-08-10: A Bar Song (Tipsy) by Shaboozey\n",
      "2024-08-03: A Bar Song (Tipsy) by Shaboozey\n",
      "2024-07-27: A Bar Song (Tipsy) by Shaboozey\n",
      "2024-07-20: Not Like Us by Kendrick Lamar\n",
      "2024-07-13: A Bar Song (Tipsy) by Shaboozey\n",
      "2024-07-06: I Had Some Help by Post Malone Featuring Morgan Wallen\n",
      "2024-06-29: Please Please Please by Sabrina Carpenter\n",
      "2024-06-22: I Had Some Help by Post Malone Featuring Morgan Wallen\n",
      "2024-06-15: I Had Some Help by Post Malone Featuring Morgan Wallen\n",
      "2024-06-08: I Had Some Help by Post Malone Featuring Morgan Wallen\n",
      "2024-06-01: I Had Some Help by Post Malone Featuring Morgan Wallen\n",
      "2024-05-25: I Had Some Help by Post Malone Featuring Morgan Wallen\n",
      "2024-05-18: Not Like Us by Kendrick Lamar\n",
      "2024-05-11: Fortnight by Taylor Swift Featuring Post Malone\n",
      "2024-05-04: Fortnight by Taylor Swift Featuring Post Malone\n",
      "2024-04-27: Too Sweet by Hozier\n",
      "2024-04-20: Like That by Future, Metro Boomin & Kendrick Lamar\n",
      "2024-04-13: Like That by Future, Metro Boomin & Kendrick Lamar\n",
      "2024-04-06: Like That by Future, Metro Boomin & Kendrick Lamar\n",
      "2024-03-30: Lose Control by Teddy Swims\n",
      "2024-03-23: We Can't Be Friends (Wait For Your Love) by Ariana Grande\n",
      "2024-03-16: Carnival by ¥$: Ye & Ty Dolla $ign Featuring Rich The Kid & Playboi Carti\n",
      "2024-03-09: Texas Hold 'Em by Beyonce\n",
      "2024-03-02: Texas Hold 'Em by Beyonce\n",
      "2024-02-24: Lovin On Me by Jack Harlow\n",
      "2024-02-17: Lovin On Me by Jack Harlow\n",
      "2024-02-10: Hiss by Megan Thee Stallion\n",
      "2024-02-03: Lovin On Me by Jack Harlow\n",
      "2024-01-27: Yes, And? by Ariana Grande\n",
      "2024-01-20: Lovin On Me by Jack Harlow\n",
      "2024-01-13: Lovin On Me by Jack Harlow\n",
      "2024-01-06: Rockin' Around The Christmas Tree by Brenda Lee\n"
     ]
    }
   ],
   "source": [
    "for chart in charts:\n",
    "    print(chart.date + \": \" + chart.entries[0].title + \" by \" + chart.entries[0].artist)"
   ]
  },
  {
   "cell_type": "code",
   "execution_count": 17,
   "id": "1afde8dd-e358-4e5e-882d-b3e88b89accf",
   "metadata": {},
   "outputs": [
    {
     "data": {
      "text/plain": [
       "'2025-01-04'"
      ]
     },
     "execution_count": 17,
     "metadata": {},
     "output_type": "execute_result"
    }
   ],
   "source": [
    "charts[0].date"
   ]
  },
  {
   "cell_type": "code",
   "execution_count": 16,
   "id": "1870c155-f8e9-49f8-a580-fa403e21fa90",
   "metadata": {
    "tags": []
   },
   "outputs": [],
   "source": [
    "import pandas as pd"
   ]
  },
  {
   "cell_type": "code",
   "execution_count": 27,
   "id": "20c5d232-eb5d-4549-9bc0-64fe2cb6d476",
   "metadata": {
    "tags": []
   },
   "outputs": [],
   "source": [
    "df = pd.DataFrame()"
   ]
  },
  {
   "cell_type": "code",
   "execution_count": 28,
   "id": "eb9085a1-6b20-4f3f-9107-12e88f7c34c3",
   "metadata": {
    "tags": []
   },
   "outputs": [
    {
     "data": {
      "text/html": [
       "<div>\n",
       "<style scoped>\n",
       "    .dataframe tbody tr th:only-of-type {\n",
       "        vertical-align: middle;\n",
       "    }\n",
       "\n",
       "    .dataframe tbody tr th {\n",
       "        vertical-align: top;\n",
       "    }\n",
       "\n",
       "    .dataframe thead th {\n",
       "        text-align: right;\n",
       "    }\n",
       "</style>\n",
       "<table border=\"1\" class=\"dataframe\">\n",
       "  <thead>\n",
       "    <tr style=\"text-align: right;\">\n",
       "      <th></th>\n",
       "    </tr>\n",
       "  </thead>\n",
       "  <tbody>\n",
       "  </tbody>\n",
       "</table>\n",
       "</div>"
      ],
      "text/plain": [
       "Empty DataFrame\n",
       "Columns: []\n",
       "Index: []"
      ]
     },
     "execution_count": 28,
     "metadata": {},
     "output_type": "execute_result"
    }
   ],
   "source": [
    "df"
   ]
  },
  {
   "cell_type": "code",
   "execution_count": 29,
   "id": "2f2d8143-adb5-4162-9677-4bc942844efc",
   "metadata": {
    "tags": []
   },
   "outputs": [],
   "source": [
    "for chart in charts[1:]:\n",
    "    for song in chart.entries:\n",
    "        song_data = {\n",
    "            'date': chart.date,\n",
    "            'rank': song.rank,\n",
    "            'title': song.title,\n",
    "            'artist': song.artist,\n",
    "            'image': song.image,\n",
    "            'peakPos': song.peakPos,\n",
    "            'lastpos': song.lastPos,\n",
    "            'weeks': song.weeks,\n",
    "            'isNew': song.isNew\n",
    "        }\n",
    "        df = pd.concat([df, pd.DataFrame([song_data])], ignore_index=True)"
   ]
  },
  {
   "cell_type": "code",
   "execution_count": 30,
   "id": "3461de6f-c9bd-4cb8-8d9a-68bda93737f4",
   "metadata": {
    "tags": []
   },
   "outputs": [
    {
     "data": {
      "text/html": [
       "<div>\n",
       "<style scoped>\n",
       "    .dataframe tbody tr th:only-of-type {\n",
       "        vertical-align: middle;\n",
       "    }\n",
       "\n",
       "    .dataframe tbody tr th {\n",
       "        vertical-align: top;\n",
       "    }\n",
       "\n",
       "    .dataframe thead th {\n",
       "        text-align: right;\n",
       "    }\n",
       "</style>\n",
       "<table border=\"1\" class=\"dataframe\">\n",
       "  <thead>\n",
       "    <tr style=\"text-align: right;\">\n",
       "      <th></th>\n",
       "      <th>date</th>\n",
       "      <th>rank</th>\n",
       "      <th>title</th>\n",
       "      <th>artist</th>\n",
       "      <th>image</th>\n",
       "      <th>peakPos</th>\n",
       "      <th>lastpos</th>\n",
       "      <th>weeks</th>\n",
       "      <th>isNew</th>\n",
       "    </tr>\n",
       "  </thead>\n",
       "  <tbody>\n",
       "    <tr>\n",
       "      <th>0</th>\n",
       "      <td>2024-12-28</td>\n",
       "      <td>1</td>\n",
       "      <td>All I Want For Christmas Is You</td>\n",
       "      <td>Mariah Carey</td>\n",
       "      <td>https://charts-static.billboard.com/img/1994/1...</td>\n",
       "      <td>1</td>\n",
       "      <td>1</td>\n",
       "      <td>70</td>\n",
       "      <td>False</td>\n",
       "    </tr>\n",
       "    <tr>\n",
       "      <th>1</th>\n",
       "      <td>2024-12-28</td>\n",
       "      <td>2</td>\n",
       "      <td>Rockin' Around The Christmas Tree</td>\n",
       "      <td>Brenda Lee</td>\n",
       "      <td>https://charts-static.billboard.com/img/1960/1...</td>\n",
       "      <td>1</td>\n",
       "      <td>2</td>\n",
       "      <td>63</td>\n",
       "      <td>False</td>\n",
       "    </tr>\n",
       "    <tr>\n",
       "      <th>2</th>\n",
       "      <td>2024-12-28</td>\n",
       "      <td>3</td>\n",
       "      <td>Last Christmas</td>\n",
       "      <td>Wham!</td>\n",
       "      <td>https://charts-static.billboard.com/img/1998/0...</td>\n",
       "      <td>3</td>\n",
       "      <td>4</td>\n",
       "      <td>44</td>\n",
       "      <td>False</td>\n",
       "    </tr>\n",
       "    <tr>\n",
       "      <th>3</th>\n",
       "      <td>2024-12-28</td>\n",
       "      <td>4</td>\n",
       "      <td>Jingle Bell Rock</td>\n",
       "      <td>Bobby Helms</td>\n",
       "      <td>https://charts-static.billboard.com/img/1958/1...</td>\n",
       "      <td>3</td>\n",
       "      <td>3</td>\n",
       "      <td>60</td>\n",
       "      <td>False</td>\n",
       "    </tr>\n",
       "    <tr>\n",
       "      <th>4</th>\n",
       "      <td>2024-12-28</td>\n",
       "      <td>5</td>\n",
       "      <td>A Holly Jolly Christmas</td>\n",
       "      <td>Burl Ives</td>\n",
       "      <td>https://charts-static.billboard.com/img/1998/0...</td>\n",
       "      <td>4</td>\n",
       "      <td>5</td>\n",
       "      <td>44</td>\n",
       "      <td>False</td>\n",
       "    </tr>\n",
       "    <tr>\n",
       "      <th>...</th>\n",
       "      <td>...</td>\n",
       "      <td>...</td>\n",
       "      <td>...</td>\n",
       "      <td>...</td>\n",
       "      <td>...</td>\n",
       "      <td>...</td>\n",
       "      <td>...</td>\n",
       "      <td>...</td>\n",
       "      <td>...</td>\n",
       "    </tr>\n",
       "    <tr>\n",
       "      <th>5195</th>\n",
       "      <td>2024-01-06</td>\n",
       "      <td>96</td>\n",
       "      <td>El Amor de Su Vida</td>\n",
       "      <td>Grupo Frontera &amp; Grupo Firme</td>\n",
       "      <td>https://charts-static.billboard.com/img/2023/0...</td>\n",
       "      <td>68</td>\n",
       "      <td>0</td>\n",
       "      <td>16</td>\n",
       "      <td>False</td>\n",
       "    </tr>\n",
       "    <tr>\n",
       "      <th>5196</th>\n",
       "      <td>2024-01-06</td>\n",
       "      <td>97</td>\n",
       "      <td>Standing Next To You</td>\n",
       "      <td>Jung Kook</td>\n",
       "      <td>https://charts-static.billboard.com/img/2023/1...</td>\n",
       "      <td>5</td>\n",
       "      <td>79</td>\n",
       "      <td>8</td>\n",
       "      <td>False</td>\n",
       "    </tr>\n",
       "    <tr>\n",
       "      <th>5197</th>\n",
       "      <td>2024-01-06</td>\n",
       "      <td>98</td>\n",
       "      <td>Man Made A Bar</td>\n",
       "      <td>Morgan Wallen Featuring Eric Church</td>\n",
       "      <td>https://charts-static.billboard.com/img/2023/0...</td>\n",
       "      <td>15</td>\n",
       "      <td>0</td>\n",
       "      <td>14</td>\n",
       "      <td>False</td>\n",
       "    </tr>\n",
       "    <tr>\n",
       "      <th>5198</th>\n",
       "      <td>2024-01-06</td>\n",
       "      <td>99</td>\n",
       "      <td>Que Onda</td>\n",
       "      <td>Calle 24 x Chino Pacas x Fuerza Regida</td>\n",
       "      <td>https://charts-static.billboard.com/img/2023/0...</td>\n",
       "      <td>61</td>\n",
       "      <td>98</td>\n",
       "      <td>13</td>\n",
       "      <td>False</td>\n",
       "    </tr>\n",
       "    <tr>\n",
       "      <th>5199</th>\n",
       "      <td>2024-01-06</td>\n",
       "      <td>100</td>\n",
       "      <td>Great Gatsby</td>\n",
       "      <td>Rod Wave</td>\n",
       "      <td>https://charts-static.billboard.com/img/2019/0...</td>\n",
       "      <td>30</td>\n",
       "      <td>99</td>\n",
       "      <td>14</td>\n",
       "      <td>False</td>\n",
       "    </tr>\n",
       "  </tbody>\n",
       "</table>\n",
       "<p>5200 rows × 9 columns</p>\n",
       "</div>"
      ],
      "text/plain": [
       "            date  rank                              title  \\\n",
       "0     2024-12-28     1    All I Want For Christmas Is You   \n",
       "1     2024-12-28     2  Rockin' Around The Christmas Tree   \n",
       "2     2024-12-28     3                     Last Christmas   \n",
       "3     2024-12-28     4                   Jingle Bell Rock   \n",
       "4     2024-12-28     5            A Holly Jolly Christmas   \n",
       "...          ...   ...                                ...   \n",
       "5195  2024-01-06    96                 El Amor de Su Vida   \n",
       "5196  2024-01-06    97               Standing Next To You   \n",
       "5197  2024-01-06    98                     Man Made A Bar   \n",
       "5198  2024-01-06    99                           Que Onda   \n",
       "5199  2024-01-06   100                       Great Gatsby   \n",
       "\n",
       "                                      artist  \\\n",
       "0                               Mariah Carey   \n",
       "1                                 Brenda Lee   \n",
       "2                                      Wham!   \n",
       "3                                Bobby Helms   \n",
       "4                                  Burl Ives   \n",
       "...                                      ...   \n",
       "5195            Grupo Frontera & Grupo Firme   \n",
       "5196                               Jung Kook   \n",
       "5197     Morgan Wallen Featuring Eric Church   \n",
       "5198  Calle 24 x Chino Pacas x Fuerza Regida   \n",
       "5199                                Rod Wave   \n",
       "\n",
       "                                                  image  peakPos  lastpos  \\\n",
       "0     https://charts-static.billboard.com/img/1994/1...        1        1   \n",
       "1     https://charts-static.billboard.com/img/1960/1...        1        2   \n",
       "2     https://charts-static.billboard.com/img/1998/0...        3        4   \n",
       "3     https://charts-static.billboard.com/img/1958/1...        3        3   \n",
       "4     https://charts-static.billboard.com/img/1998/0...        4        5   \n",
       "...                                                 ...      ...      ...   \n",
       "5195  https://charts-static.billboard.com/img/2023/0...       68        0   \n",
       "5196  https://charts-static.billboard.com/img/2023/1...        5       79   \n",
       "5197  https://charts-static.billboard.com/img/2023/0...       15        0   \n",
       "5198  https://charts-static.billboard.com/img/2023/0...       61       98   \n",
       "5199  https://charts-static.billboard.com/img/2019/0...       30       99   \n",
       "\n",
       "      weeks  isNew  \n",
       "0        70  False  \n",
       "1        63  False  \n",
       "2        44  False  \n",
       "3        60  False  \n",
       "4        44  False  \n",
       "...     ...    ...  \n",
       "5195     16  False  \n",
       "5196      8  False  \n",
       "5197     14  False  \n",
       "5198     13  False  \n",
       "5199     14  False  \n",
       "\n",
       "[5200 rows x 9 columns]"
      ]
     },
     "execution_count": 30,
     "metadata": {},
     "output_type": "execute_result"
    }
   ],
   "source": [
    "df"
   ]
  },
  {
   "cell_type": "code",
   "execution_count": 31,
   "id": "6dd22a98-259b-4199-8c98-db3d864a75e6",
   "metadata": {
    "tags": []
   },
   "outputs": [],
   "source": [
    "# Save to Excel\n",
    "df.to_excel(\n",
    "    \"bilboard_dataset_2024.xlsx\",     # output file path (use “.xls” or “.xlsx”)\n",
    "    sheet_name=\"2024\",# optional: name of the worksheet\n",
    "    index=False         # don’t write row indices into the file\n",
    ")\n"
   ]
  },
  {
   "cell_type": "code",
   "execution_count": null,
   "id": "2a898f67-3d73-4517-9538-402b197af8ee",
   "metadata": {},
   "outputs": [],
   "source": []
  }
 ],
 "metadata": {
  "kernelspec": {
   "display_name": "Python 3 (ipykernel)",
   "language": "python",
   "name": "python3"
  },
  "language_info": {
   "codemirror_mode": {
    "name": "ipython",
    "version": 3
   },
   "file_extension": ".py",
   "mimetype": "text/x-python",
   "name": "python",
   "nbconvert_exporter": "python",
   "pygments_lexer": "ipython3",
   "version": "3.11.5"
  }
 },
 "nbformat": 4,
 "nbformat_minor": 5
}
